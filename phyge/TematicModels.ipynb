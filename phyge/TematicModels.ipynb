{
 "cells": [
  {
   "cell_type": "code",
   "execution_count": 1,
   "metadata": {},
   "outputs": [],
   "source": [
    "import time\n",
    "from pprint import pprint\n",
    "from gensim import corpora, models, similarities\n",
    "from Models.PhygeArticle import PhyArticle\n",
    "from Storage import Storage"
   ]
  },
  {
   "cell_type": "code",
   "execution_count": 2,
   "metadata": {},
   "outputs": [],
   "source": [
    "def find_article(model_corpus, query_vec):\n",
    "    start_time = time.time()\n",
    "    index = similarities.MatrixSimilarity(model_corpus)\n",
    "    sims = index[query_vec]\n",
    "    sims = sorted(enumerate(sims), key=lambda item: -item[1])\n",
    "    print('answer', sims[0:5])\n",
    "    print('answer time:', round((time.time() - start_time), 3), 's')\n",
    "    articles: [PhyArticle] = test_case.articles\n",
    "    result = list()\n",
    "    for index, similarity in sims[0:5]:\n",
    "        article_similarity = {'title': articles[index].title,\n",
    "                              'url': articles[index].downloaded_from_url,\n",
    "                              'similarity': similarity}\n",
    "        result.append(article_similarity)\n",
    "    return result"
   ]
  },
  {
   "cell_type": "code",
   "execution_count": 3,
   "metadata": {},
   "outputs": [],
   "source": [
    "def comparison_answer(model_answer):\n",
    "    if model_answer['url'] == true_answer:\n",
    "        print('Article found correctly!')\n",
    "    else:\n",
    "        print('Article found NOT correctly! the first five articles:')"
   ]
  },
  {
   "cell_type": "code",
   "execution_count": 4,
   "metadata": {},
   "outputs": [
    {
     "name": "stdout",
     "output_type": "stream",
     "text": [
      "LSI model:\n",
      "Learning time: 1.058 s\n"
     ]
    }
   ],
   "source": [
    "storage = Storage()\n",
    "test_case = storage.load_test_case(1)\n",
    "test_case.setup()\n",
    "df = test_case.values\n",
    "query_normalize = test_case.queries[0].normalized_words"
   ]
  },
  {
   "cell_type": "code",
   "execution_count": 5,
   "metadata": {},
   "outputs": [
    {
     "name": "stdout",
     "output_type": "stream",
     "text": [
      "answer [(18, 0.81367904), (71, 0.53680503), (76, 0.51764625), (70, 0.5085629), (74, 0.37062845)]\n",
      "answer time: 0.07 s\n"
     ]
    }
   ],
   "source": [
    "true_answer = test_case.queries[0].url\n",
    "print('TRUE URL = ', true_answer, ', Title:', test_case.queries[0].title)"
   ]
  },
  {
   "cell_type": "code",
   "execution_count": 6,
   "metadata": {},
   "outputs": [
    {
     "name": "stderr",
     "output_type": "stream",
     "text": [
      "/Library/Frameworks/Python.framework/Versions/3.6/lib/python3.6/site-packages/gensim/models/ldamodel.py:775: RuntimeWarning: divide by zero encountered in log\n",
      "  diff = np.log(self.expElogbeta)\n"
     ]
    },
    {
     "name": "stdout",
     "output_type": "stream",
     "text": [
      "\n",
      "LDA model:\n",
      "Learning time: 55.623 s\n"
     ]
    }
   ],
   "source": [
    "documents = []\n",
    "for columns in df.columns:\n",
    "    documents.append(df[columns].dropna().tolist())\n",
    "dct = corpora.Dictionary(documents)\n",
    "vec_bow_query = dct.doc2bow(query_normalize)\n",
    "# dct.save(path + '/deerwester.dict')\n",
    "corpus = [dct.doc2bow(doc) for doc in documents]\n",
    "# corpora.MmCorpus.serialize(path + '/deerwester.mm', corpus)  # store to disk, for later use"
   ]
  },
  {
   "cell_type": "code",
   "execution_count": 7,
   "metadata": {},
   "outputs": [
    {
     "name": "stdout",
     "output_type": "stream",
     "text": [
      "answer [(18, 0.9457527), (17, 0.18289894), (75, 0.17822975), (73, 0.16977227), (74, 0.16500413)]\n",
      "time: 1.638 s\n"
     ]
    }
   ],
   "source": [
    "print('\\nLSI model:')\n",
    "start_time_LSI = time.time()\n",
    "lsi = models.LsiModel(corpus, id2word=dct, num_topics=100)\n",
    "print('Learning time:', round((time.time() - start_time_LSI), 3), 's')\n",
    "lsi_answer = find_article(lsi[corpus], lsi[vec_bow_query])\n",
    "pprint(lsi_answer[0:2])\n",
    "comparison_answer(lsi_answer[0])"
   ]
  },
  {
   "cell_type": "code",
   "execution_count": 1,
   "metadata": {},
   "outputs": [
    {
     "name": "stdout",
     "output_type": "stream",
     "text": [
      "\nLDA model:\n"
     ]
    },
    {
     "ename": "NameError",
     "evalue": "name 'time' is not defined",
     "traceback": [
      "\u001b[0;31m---------------------------------------------------------------------------\u001b[0m",
      "\u001b[0;31mNameError\u001b[0m                                 Traceback (most recent call last)",
      "\u001b[0;32m<ipython-input-1-d98a080a151a>\u001b[0m in \u001b[0;36m<module>\u001b[0;34m()\u001b[0m\n\u001b[1;32m      1\u001b[0m \u001b[0mprint\u001b[0m\u001b[0;34m(\u001b[0m\u001b[0;34m'\\nLDA model:'\u001b[0m\u001b[0;34m)\u001b[0m\u001b[0;34m\u001b[0m\u001b[0m\n\u001b[0;32m----> 2\u001b[0;31m \u001b[0mstart_time_LDA\u001b[0m \u001b[0;34m=\u001b[0m \u001b[0mtime\u001b[0m\u001b[0;34m.\u001b[0m\u001b[0mtime\u001b[0m\u001b[0;34m(\u001b[0m\u001b[0;34m)\u001b[0m\u001b[0;34m\u001b[0m\u001b[0m\n\u001b[0m\u001b[1;32m      3\u001b[0m \u001b[0mlda\u001b[0m \u001b[0;34m=\u001b[0m \u001b[0mmodels\u001b[0m\u001b[0;34m.\u001b[0m\u001b[0mldamodel\u001b[0m\u001b[0;34m.\u001b[0m\u001b[0mLdaModel\u001b[0m\u001b[0;34m(\u001b[0m\u001b[0mcorpus\u001b[0m\u001b[0;34m,\u001b[0m \u001b[0mid2word\u001b[0m\u001b[0;34m=\u001b[0m\u001b[0mdct\u001b[0m\u001b[0;34m,\u001b[0m \u001b[0mnum_topics\u001b[0m\u001b[0;34m=\u001b[0m\u001b[0;36m100\u001b[0m\u001b[0;34m,\u001b[0m \u001b[0mpasses\u001b[0m\u001b[0;34m=\u001b[0m\u001b[0;36m20\u001b[0m\u001b[0;34m)\u001b[0m\u001b[0;34m\u001b[0m\u001b[0m\n\u001b[1;32m      4\u001b[0m \u001b[0mprint\u001b[0m\u001b[0;34m(\u001b[0m\u001b[0;34m'Learning time:'\u001b[0m\u001b[0;34m,\u001b[0m \u001b[0mround\u001b[0m\u001b[0;34m(\u001b[0m\u001b[0;34m(\u001b[0m\u001b[0mtime\u001b[0m\u001b[0;34m.\u001b[0m\u001b[0mtime\u001b[0m\u001b[0;34m(\u001b[0m\u001b[0;34m)\u001b[0m \u001b[0;34m-\u001b[0m \u001b[0mstart_time_LDA\u001b[0m\u001b[0;34m)\u001b[0m\u001b[0;34m,\u001b[0m \u001b[0;36m3\u001b[0m\u001b[0;34m)\u001b[0m\u001b[0;34m,\u001b[0m \u001b[0;34m's'\u001b[0m\u001b[0;34m)\u001b[0m\u001b[0;34m\u001b[0m\u001b[0m\n\u001b[1;32m      5\u001b[0m \u001b[0mlda_answer\u001b[0m \u001b[0;34m=\u001b[0m \u001b[0mfind_article\u001b[0m\u001b[0;34m(\u001b[0m\u001b[0mlda\u001b[0m\u001b[0;34m[\u001b[0m\u001b[0mcorpus\u001b[0m\u001b[0;34m]\u001b[0m\u001b[0;34m,\u001b[0m \u001b[0mlda\u001b[0m\u001b[0;34m[\u001b[0m\u001b[0mvec_bow_query\u001b[0m\u001b[0;34m]\u001b[0m\u001b[0;34m)\u001b[0m\u001b[0;34m\u001b[0m\u001b[0m\n",
      "\u001b[0;31mNameError\u001b[0m: name 'time' is not defined"
     ],
     "output_type": "error"
    }
   ],
   "source": [
    "print('\\nLDA model:')\n",
    "start_time_LDA = time.time()\n",
    "lda = models.ldamodel.LdaModel(corpus, id2word=dct, num_topics=100, passes=20)\n",
    "print('Learning time:', round((time.time() - start_time_LDA), 3), 's')\n",
    "lda_answer = find_article(lda[corpus], lda[vec_bow_query])\n",
    "pprint(lda_answer[0:2])\n",
    "comparison_answer(lda_answer[0])"
   ]
  },
  {
   "cell_type": "code",
   "execution_count": null,
   "metadata": {},
   "outputs": [],
   "source": [
    ""
   ]
  }
 ],
 "metadata": {
  "kernelspec": {
   "display_name": "Python 3",
   "language": "python",
   "name": "python3"
  },
  "language_info": {
   "codemirror_mode": {
    "name": "ipython",
    "version": 3.0
   },
   "file_extension": ".py",
   "mimetype": "text/x-python",
   "name": "python",
   "nbconvert_exporter": "python",
   "pygments_lexer": "ipython3",
   "version": "3.6.1"
  }
 },
 "nbformat": 4,
 "nbformat_minor": 0
}