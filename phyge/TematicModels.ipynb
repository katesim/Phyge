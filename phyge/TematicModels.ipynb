{
 "cells": [
  {
   "cell_type": "code",
   "execution_count": 1,
   "metadata": {},
   "outputs": [],
   "source": [
    "import pandas as pd\n",
    "import time\n",
    "from gensim import corpora, models, similarities\n",
    "from Models.PhygeVariables import PhyVariables\n",
    "from Storage import Storage"
   ]
  },
  {
   "cell_type": "code",
   "execution_count": 2,
   "metadata": {},
   "outputs": [],
   "source": [
    "storage = Storage()\n",
    "test_case = storage.load_test_case(1)\n",
    "test_case.setup()\n",
    "\n",
    "df = pd.read_csv(test_case.path + '/' + PhyVariables.valuesFileKey)\n",
    "query_normalize = str(test_case.queries[0]).split()"
   ]
  },
  {
   "cell_type": "code",
   "execution_count": 3,
   "metadata": {},
   "outputs": [],
   "source": [
    "documents = []\n",
    "for columns in df.columns:\n",
    "    documents.append(df[columns].dropna().tolist())\n",
    "dct = corpora.Dictionary(documents)\n",
    "vec_bow_query = dct.doc2bow(query_normalize)\n",
    "# dct.save(path + '/deerwester.dict')\n",
    "corpus = [dct.doc2bow(doc) for doc in documents]\n",
    "# corpora.MmCorpus.serialize(path + '/deerwester.mm', corpus)  # store to disk, for later use"
   ]
  },
  {
   "cell_type": "code",
   "execution_count": 4,
   "metadata": {},
   "outputs": [
    {
     "name": "stdout",
     "output_type": "stream",
     "text": [
      "LSI model:\n",
      "Learning time: 1.058 s\n"
     ]
    }
   ],
   "source": [
    "start_time_LSI = time.time()\n",
    "lsi = models.LsiModel(corpus, id2word=dct, num_topics=100)\n",
    "print('LSI model:')\n",
    "print('Learning time:', round((time.time() - start_time_LSI), 3), 's')"
   ]
  },
  {
   "cell_type": "code",
   "execution_count": 5,
   "metadata": {},
   "outputs": [
    {
     "name": "stdout",
     "output_type": "stream",
     "text": [
      "answer [(18, 0.81367904), (71, 0.53680503), (76, 0.51764625), (70, 0.5085629), (74, 0.37062845)]\n",
      "answer time: 0.07 s\n"
     ]
    }
   ],
   "source": [
    "start_time_LSI = time.time()\n",
    "vec_lsi = lsi[vec_bow_query]  # convert the query to LSI space\n",
    "index = similarities.MatrixSimilarity(lsi[corpus])\n",
    "sims = index[vec_lsi]  # perform a similarity query against the corpus\n",
    "sims = sorted(enumerate(sims), key=lambda item: -item[1])\n",
    "print('answer', sims[0:5])  # print sorted (document number, similarity score) 2-tuples\n",
    "print('answer time:', round((time.time() - start_time_LSI), 3), 's')"
   ]
  },
  {
   "cell_type": "code",
   "execution_count": 6,
   "metadata": {},
   "outputs": [
    {
     "name": "stderr",
     "output_type": "stream",
     "text": [
      "/Library/Frameworks/Python.framework/Versions/3.6/lib/python3.6/site-packages/gensim/models/ldamodel.py:775: RuntimeWarning: divide by zero encountered in log\n",
      "  diff = np.log(self.expElogbeta)\n"
     ]
    },
    {
     "name": "stdout",
     "output_type": "stream",
     "text": [
      "\n",
      "LDA model:\n",
      "Learning time: 55.623 s\n"
     ]
    }
   ],
   "source": [
    "start_time_LDA = time.time()\n",
    "lda = models.ldamodel.LdaModel(corpus, id2word=dct, num_topics=100, passes=20)\n",
    "print('\\nLDA model:')\n",
    "print('Learning time:', round((time.time() - start_time_LDA), 3), 's')\n",
    "start_time_LDA = time.time()"
   ]
  },
  {
   "cell_type": "code",
   "execution_count": 7,
   "metadata": {},
   "outputs": [
    {
     "name": "stdout",
     "output_type": "stream",
     "text": [
      "answer [(18, 0.9457527), (17, 0.18289894), (75, 0.17822975), (73, 0.16977227), (74, 0.16500413)]\n",
      "time: 1.638 s\n"
     ]
    }
   ],
   "source": [
    "vec_lda = lda[vec_bow_query]\n",
    "index = similarities.MatrixSimilarity(lda[corpus])\n",
    "sims = index[vec_lda]\n",
    "sims = sorted(enumerate(sims), key=lambda item: -item[1])\n",
    "print('answer', sims[0:5])  # print sorted (document number, similarity score) 2-tuples\n",
    "print('time:', round((time.time() - start_time_LDA), 3), 's')"
   ]
  }
 ],
 "metadata": {
  "kernelspec": {
   "display_name": "Python 3",
   "language": "python",
   "name": "python3"
  },
  "language_info": {
   "codemirror_mode": {
    "name": "ipython",
    "version": 3
   },
   "file_extension": ".py",
   "mimetype": "text/x-python",
   "name": "python",
   "nbconvert_exporter": "python",
   "pygments_lexer": "ipython3",
   "version": "3.6.1"
  }
 },
 "nbformat": 4,
 "nbformat_minor": 1
}
